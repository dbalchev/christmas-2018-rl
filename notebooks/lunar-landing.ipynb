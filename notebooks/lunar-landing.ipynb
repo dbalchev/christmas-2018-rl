{
 "cells": [
  {
   "cell_type": "code",
   "execution_count": 1,
   "metadata": {},
   "outputs": [],
   "source": [
    "%load_ext autoreload\n",
    "%autoreload 2"
   ]
  },
  {
   "cell_type": "code",
   "execution_count": 2,
   "metadata": {},
   "outputs": [],
   "source": [
    "import sys\n",
    "sys.path.append('../')"
   ]
  },
  {
   "cell_type": "code",
   "execution_count": 3,
   "metadata": {},
   "outputs": [],
   "source": [
    "import gym\n",
    "import numpy as np\n",
    "from reinforcement_learning.reinforce import (\n",
    "    MLPReinforceModel, ReinforceTrainer, BasicPPO)\n",
    "from reinforcement_learning.advantage import (\n",
    "    MLPValueModule, AdvantageMixin)\n",
    "from reinforcement_learning.q_learning import QLearningTrainer\n",
    "from reinforcement_learning.curious_learner import (\n",
    "    ReinforceCuriousLearner, CuriousModelFamily,\n",
    "    lunar_embedder, LunarForwardModel, LunarInverseModel)\n",
    "from reinforcement_learning.ddpg import DDPGTrainer, BoxQModule\n",
    "from reinforcement_learning.replay_buffer_trainer import (\n",
    "    ReplayBufferedTrainerMixin, BatchedTrainerMixin)"
   ]
  },
  {
   "cell_type": "code",
   "execution_count": 4,
   "metadata": {},
   "outputs": [
    {
     "name": "stderr",
     "output_type": "stream",
     "text": [
      "e:\\programs\\programming\\conda\\envs\\pth-rl\\lib\\site-packages\\gym\\envs\\registration.py:14: PkgResourcesDeprecationWarning: Parameters to load are deprecated.  Call .resolve and .require separately.\n",
      "  result = entry_point.load(False)\n"
     ]
    }
   ],
   "source": [
    "env = gym.make('LunarLanderContinuous-v2')"
   ]
  },
  {
   "cell_type": "code",
   "execution_count": null,
   "metadata": {},
   "outputs": [
    {
     "data": {
      "text/plain": [
       "(Box(8,), Box(2,))"
      ]
     },
     "execution_count": 5,
     "metadata": {},
     "output_type": "execute_result"
    }
   ],
   "source": [
    "env.observation_space, env.action_space"
   ]
  },
  {
   "cell_type": "code",
   "execution_count": null,
   "metadata": {},
   "outputs": [],
   "source": [
    "actor = MLPReinforceModel(env, 64)\n",
    "# target_actor = MLPReinforceModel(env, 48)\n",
    "# actor = QModule(env, 64)\n",
    "value = MLPValueModule(env, 48)\n",
    "# q_function = BoxQModule(env, 48)\n",
    "# target_q = BoxQModule(env, 48)\n",
    "# curious_model_family = CuriousModelFamily(\n",
    "#     forward_model=LunarForwardModel(env, 32),\n",
    "#     inverse_model=LunarInverseModel(env, 32),\n",
    "#     embedder=lunar_embedder(env, 32))"
   ]
  },
  {
   "cell_type": "code",
   "execution_count": null,
   "metadata": {},
   "outputs": [],
   "source": [
    "trainer_class = type(\n",
    "    'CurrentTrainer', (BatchedTrainerMixin, AdvantageMixin, BasicPPO), {})"
   ]
  },
  {
   "cell_type": "code",
   "execution_count": null,
   "metadata": {},
   "outputs": [],
   "source": [
    "trainer = trainer_class(\n",
    "#     replay_buffer_max_size=10000, batch_size=64,\n",
    "    num_steps_per_batch=4000,\n",
    "    num_episodes_in_batch=10,\n",
    "    num_trainings_per_batch=80,\n",
    "    max_episode_length=1000,\n",
    "    #curious_model_family,\n",
    "    ppo_clip_ratio=0.15,\n",
    "    env=env, agent=actor, value_module=value, exploration_prob=0.0, \n",
    "    should_render=False, reward_discount=0.95)"
   ]
  },
  {
   "cell_type": "code",
   "execution_count": null,
   "metadata": {},
   "outputs": [],
   "source": [
    "# trainer = DDPGTrainer(\n",
    "#     #curious_model_family,\n",
    "#     env=env, policy=actor, q_func=q_function, exploration_prob=1.0, \n",
    "#     target_policy=target_actor, target_q=target_q,\n",
    "#     should_render=False, reward_discount=0, ddpg_reward_discount=0.99)"
   ]
  },
  {
   "cell_type": "code",
   "execution_count": null,
   "metadata": {},
   "outputs": [],
   "source": [
    "# trainer = QLearningTrainer(\n",
    "#     env, actor, exploration_prob=0.25, reward_discount=0.95, target_agent=QModule(env, 48))"
   ]
  },
  {
   "cell_type": "code",
   "execution_count": null,
   "metadata": {
    "scrolled": false
   },
   "outputs": [
    {
     "name": "stderr",
     "output_type": "stream",
     "text": [
      "..\\reinforcement_learning\\replay_buffer_trainer.py:41: UserWarning: Batched training\n",
      "  warn('Batched training')\n"
     ]
    },
    {
     "name": "stdout",
     "output_type": "stream",
     "text": [
      "0.28317522005460205 [0.5 0.5]\n",
      "training!\n",
      "training!\n",
      "-180.03396500422193 [0.5051078 0.5059725]\n",
      "training!\n",
      "training!\n",
      "training!\n",
      "-138.93772276408288 [0.50464624 0.503352  ]\n",
      "training!\n",
      "training!\n",
      "training!\n",
      "-149.79275656516177 [0.497083   0.49841264]\n",
      "training!\n",
      "training!\n",
      "training!\n",
      "training!\n",
      "-72.30176579882864 [0.4877242 0.4967803]\n",
      "training!\n",
      "training!\n",
      "training!\n",
      "training!\n",
      "training!\n",
      "training!\n",
      "training!\n",
      "training!\n",
      "-62.684775693242585 [0.46635404 0.48355836]\n",
      "training!\n",
      "training!\n",
      "training!\n",
      "training!\n",
      "training!\n",
      "training!\n",
      "training!\n",
      "training!\n",
      "training!\n",
      "training!\n",
      "training!\n",
      "training!\n",
      "training!\n",
      "training!\n",
      "training!\n",
      "training!\n",
      "11.84860678117956 [0.4303458  0.46464378]\n",
      "training!\n",
      "training!\n",
      "training!\n",
      "training!\n",
      "training!\n",
      "training!\n",
      "training!\n",
      "training!\n",
      "training!\n",
      "training!\n",
      "training!\n",
      "training!\n",
      "training!\n",
      "training!\n",
      "training!\n",
      "training!\n",
      "training!\n",
      "training!\n",
      "training!\n",
      "17.390173760119097 [0.40214825 0.43464178]\n",
      "training!\n",
      "training!\n",
      "training!\n",
      "training!\n",
      "training!\n",
      "training!\n",
      "training!\n",
      "training!\n",
      "training!\n",
      "training!\n",
      "training!\n",
      "training!\n",
      "training!\n",
      "training!\n",
      "training!\n",
      "training!\n",
      "training!\n",
      "training!\n",
      "training!\n",
      "training!\n",
      "training!\n",
      "training!\n",
      "training!\n",
      "training!\n",
      "training!\n",
      "-24.642230443392606 [0.38141447 0.41513819]\n",
      "training!\n",
      "training!\n",
      "training!\n",
      "training!\n",
      "training!\n",
      "training!\n",
      "training!\n",
      "training!\n",
      "training!\n",
      "training!\n",
      "training!\n",
      "training!\n",
      "training!\n",
      "training!\n",
      "training!\n",
      "training!\n",
      "training!\n",
      "training!\n",
      "training!\n",
      "training!\n",
      "training!\n",
      "training!\n",
      "training!\n",
      "-6.950591591411219 [0.35169825 0.38658452]\n",
      "training!\n",
      "training!\n",
      "training!\n",
      "training!\n",
      "training!\n",
      "training!\n",
      "training!\n",
      "training!\n",
      "training!\n",
      "-110.65284661969417 [0.34327298 0.36283338]\n",
      "training!\n",
      "training!\n",
      "training!\n",
      "training!\n",
      "training!\n",
      "training!\n",
      "training!\n",
      "training!\n",
      "training!\n",
      "training!\n",
      "training!\n",
      "training!\n",
      "training!\n",
      "training!\n",
      "training!\n",
      "training!\n",
      "training!\n",
      "training!\n"
     ]
    }
   ],
   "source": [
    "rewards = []\n",
    "losses = []\n",
    "for i in range(30000):\n",
    "    if (i % 25) == 0:\n",
    "        trainer.should_render = True\n",
    "#     if i == 500:\n",
    "#         trainer.exploration_prob = 0.05\n",
    "#         print('Not fully random anymore')\n",
    "#     if i == 1000:\n",
    "#         trainer.exploration_prob = 0.0\n",
    "#         print('No more rand')\n",
    "#     if i % 1000 == 999:\n",
    "#         trainer.box_action_std *= 0.5\n",
    "#         print('Lowering box_action_std to', trainer.box_action_std)\n",
    "    reward, loss = trainer.train_one_episode()\n",
    "    trainer.should_render = False\n",
    "    rewards.append(reward)\n",
    "    losses.append(loss)\n",
    "    if (i % 100) == 0:\n",
    "        print(np.mean(rewards), trainer.box_action_std)\n",
    "        rewards = []\n",
    "        losses = []"
   ]
  },
  {
   "cell_type": "code",
   "execution_count": null,
   "metadata": {},
   "outputs": [],
   "source": [
    "a = list(range(10))"
   ]
  },
  {
   "cell_type": "code",
   "execution_count": null,
   "metadata": {},
   "outputs": [],
   "source": [
    "%debug\n"
   ]
  }
 ],
 "metadata": {
  "kernelspec": {
   "display_name": "Python 3",
   "language": "python",
   "name": "python3"
  },
  "language_info": {
   "codemirror_mode": {
    "name": "ipython",
    "version": 3
   },
   "file_extension": ".py",
   "mimetype": "text/x-python",
   "name": "python",
   "nbconvert_exporter": "python",
   "pygments_lexer": "ipython3",
   "version": "3.7.0"
  }
 },
 "nbformat": 4,
 "nbformat_minor": 2
}
