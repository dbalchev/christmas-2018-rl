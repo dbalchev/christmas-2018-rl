{
 "cells": [
  {
   "cell_type": "code",
   "execution_count": 1,
   "metadata": {},
   "outputs": [],
   "source": [
    "%load_ext autoreload\n",
    "%autoreload 2"
   ]
  },
  {
   "cell_type": "code",
   "execution_count": 2,
   "metadata": {},
   "outputs": [],
   "source": [
    "import sys\n",
    "sys.path.append('../')"
   ]
  },
  {
   "cell_type": "code",
   "execution_count": 3,
   "metadata": {},
   "outputs": [],
   "source": [
    "import gym\n",
    "import numpy as np\n",
    "from reinforcement_learning.reinforce import MLPReinforceModel, ReinforceTrainer\n",
    "from reinforcement_learning.reinforce_with_advantage import MLPValueModule, ReinforceWithAdvantageTrainer\n",
    "from reinforcement_learning.q_learning import QLearningTrainer\n",
    "from reinforcement_learning.curious_learner import (\n",
    "    ReinforceCuriousLearner, CuriousModelFamily,\n",
    "    lunar_embedder, LunarForwardModel, LunarInverseModel)\n",
    "from reinforcement_learning.ddpg import DDPGTrainer, BoxQModule"
   ]
  },
  {
   "cell_type": "code",
   "execution_count": 4,
   "metadata": {},
   "outputs": [
    {
     "name": "stderr",
     "output_type": "stream",
     "text": [
      "e:\\programs\\programming\\conda\\envs\\pth-rl\\lib\\site-packages\\gym\\envs\\registration.py:14: PkgResourcesDeprecationWarning: Parameters to load are deprecated.  Call .resolve and .require separately.\n",
      "  result = entry_point.load(False)\n"
     ]
    }
   ],
   "source": [
    "env = gym.make('LunarLanderContinuous-v2')"
   ]
  },
  {
   "cell_type": "code",
   "execution_count": null,
   "metadata": {},
   "outputs": [
    {
     "data": {
      "text/plain": [
       "(Box(8,), Box(2,))"
      ]
     },
     "execution_count": 5,
     "metadata": {},
     "output_type": "execute_result"
    }
   ],
   "source": [
    "env.observation_space, env.action_space"
   ]
  },
  {
   "cell_type": "code",
   "execution_count": null,
   "metadata": {},
   "outputs": [],
   "source": [
    "actor = MLPReinforceModel(env, 48)\n",
    "target_actor = MLPReinforceModel(env, 48)\n",
    "# actor = QModule(env, 48)\n",
    "# value = MLPValueModule(env, 48)\n",
    "q_function = BoxQModule(env, 48)\n",
    "target_q = BoxQModule(env, 48)\n",
    "# curious_model_family = CuriousModelFamily(\n",
    "#     forward_model=LunarForwardModel(env, 32),\n",
    "#     inverse_model=LunarInverseModel(env, 32),\n",
    "#     embedder=lunar_embedder(env, 32))"
   ]
  },
  {
   "cell_type": "code",
   "execution_count": null,
   "metadata": {},
   "outputs": [],
   "source": [
    "# trainer = ReinforceWithAdvantageTrainer(\n",
    "#     #curious_model_family,\n",
    "#     env=env, agent=actor, value_module=value, exploration_prob=0.0, \n",
    "#     should_render=False, reward_discount=0.95)"
   ]
  },
  {
   "cell_type": "code",
   "execution_count": null,
   "metadata": {},
   "outputs": [],
   "source": [
    "trainer = DDPGTrainer(\n",
    "    #curious_model_family,\n",
    "    env=env, policy=actor, q_func=q_function, exploration_prob=0.0, \n",
    "    target_policy=target_actor, target_q=target_q,\n",
    "    should_render=False, reward_discount=0, ddpg_reward_discount=0.99)"
   ]
  },
  {
   "cell_type": "code",
   "execution_count": null,
   "metadata": {},
   "outputs": [],
   "source": [
    "# trainer = QLearningTrainer(\n",
    "#     env, actor, exploration_prob=0.25, reward_discount=0.95, target_agent=QModule(env, 48))"
   ]
  },
  {
   "cell_type": "code",
   "execution_count": null,
   "metadata": {
    "scrolled": false
   },
   "outputs": [
    {
     "name": "stdout",
     "output_type": "stream",
     "text": [
      "-321.63165594796817 0\n",
      "-299.54754431063475 0\n",
      "-209.21567173087107 0\n",
      "-317.5073574962394 0\n",
      "-292.7377670905152 0\n",
      "-230.0504942539296 0\n",
      "-347.79260185935686 0\n",
      "-169.48682569956466 0\n",
      "-253.66377421682228 0\n",
      "-283.4369254626321 0\n",
      "-223.60698589900923 0\n",
      "-108.57468501107918 0\n"
     ]
    }
   ],
   "source": [
    "rewards = []\n",
    "losses = []\n",
    "for i in range(30000):\n",
    "    if (i % 25) == 0:\n",
    "        trainer.should_render = True\n",
    "    reward, loss = trainer.train_one_episode()\n",
    "    trainer.should_render = False\n",
    "    rewards.append(reward)\n",
    "    losses.append(loss)\n",
    "    if (i % 100) == 0:\n",
    "        print(np.mean(rewards), loss)\n",
    "        rewards = []\n",
    "        losses = []"
   ]
  },
  {
   "cell_type": "code",
   "execution_count": null,
   "metadata": {},
   "outputs": [],
   "source": [
    "%debug\n"
   ]
  }
 ],
 "metadata": {
  "kernelspec": {
   "display_name": "Python 3",
   "language": "python",
   "name": "python3"
  },
  "language_info": {
   "codemirror_mode": {
    "name": "ipython",
    "version": 3
   },
   "file_extension": ".py",
   "mimetype": "text/x-python",
   "name": "python",
   "nbconvert_exporter": "python",
   "pygments_lexer": "ipython3",
   "version": "3.7.0"
  }
 },
 "nbformat": 4,
 "nbformat_minor": 2
}
