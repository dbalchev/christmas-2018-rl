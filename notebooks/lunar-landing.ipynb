{
 "cells": [
  {
   "cell_type": "code",
   "execution_count": 1,
   "metadata": {},
   "outputs": [],
   "source": [
    "%load_ext autoreload\n",
    "%autoreload 2"
   ]
  },
  {
   "cell_type": "code",
   "execution_count": 2,
   "metadata": {},
   "outputs": [],
   "source": [
    "import sys\n",
    "sys.path.append('../')"
   ]
  },
  {
   "cell_type": "code",
   "execution_count": 3,
   "metadata": {},
   "outputs": [],
   "source": [
    "import gym\n",
    "import numpy as np\n",
    "from reinforcement_learning.reinforce import MLPReinforceModel, ReinforceTrainer\n",
    "from reinforcement_learning.reinforce_with_advantage import LunarValueModule, ReinforceWithAdvantageTrainer\n",
    "from reinforcement_learning.q_learning import QModule, QLearningTrainer\n",
    "from reinforcement_learning.curious_learner import (\n",
    "    ReinforceCuriousLearner, CuriousModelFamily,\n",
    "    lunar_embedder, LunarForwardModel, LunarInverseModel)"
   ]
  },
  {
   "cell_type": "code",
   "execution_count": 4,
   "metadata": {},
   "outputs": [
    {
     "name": "stderr",
     "output_type": "stream",
     "text": [
      "e:\\programs\\programming\\conda\\envs\\pth-rl\\lib\\site-packages\\gym\\envs\\registration.py:14: PkgResourcesDeprecationWarning: Parameters to load are deprecated.  Call .resolve and .require separately.\n",
      "  result = entry_point.load(False)\n"
     ]
    }
   ],
   "source": [
    "env = gym.make('LunarLander-v2')"
   ]
  },
  {
   "cell_type": "code",
   "execution_count": null,
   "metadata": {},
   "outputs": [
    {
     "data": {
      "text/plain": [
       "4"
      ]
     },
     "execution_count": 5,
     "metadata": {},
     "output_type": "execute_result"
    }
   ],
   "source": [
    "env.action_space.n"
   ]
  },
  {
   "cell_type": "code",
   "execution_count": null,
   "metadata": {},
   "outputs": [
    {
     "data": {
      "text/plain": [
       "Box(8,)"
      ]
     },
     "execution_count": 6,
     "metadata": {},
     "output_type": "execute_result"
    }
   ],
   "source": [
    "env.observation_space"
   ]
  },
  {
   "cell_type": "code",
   "execution_count": null,
   "metadata": {},
   "outputs": [],
   "source": [
    "actor = MLPReinforceModel(env, 48)\n",
    "# actor = QModule(env, 48)\n",
    "# value = LunarValueModule()\n",
    "curious_model_family = CuriousModelFamily(\n",
    "    forward_model=LunarForwardModel(env, 32),\n",
    "    inverse_model=LunarInverseModel(env, 32),\n",
    "    embedder=lunar_embedder(env, 32))"
   ]
  },
  {
   "cell_type": "code",
   "execution_count": null,
   "metadata": {},
   "outputs": [],
   "source": [
    "trainer = ReinforceCuriousLearner(\n",
    "    curious_model_family,\n",
    "    env=env, agent=actor, exploration_prob=0.0, \n",
    "    should_render=False, reward_discount=0.95)"
   ]
  },
  {
   "cell_type": "code",
   "execution_count": null,
   "metadata": {},
   "outputs": [],
   "source": [
    "# trainer = QLearningTrainer(\n",
    "#     env, actor, exploration_prob=0.25, reward_discount=0.95, target_agent=QModule(env, 48))"
   ]
  },
  {
   "cell_type": "code",
   "execution_count": null,
   "metadata": {
    "scrolled": false
   },
   "outputs": [
    {
     "name": "stderr",
     "output_type": "stream",
     "text": [
      "e:\\programs\\programming\\conda\\envs\\pth-rl\\lib\\site-packages\\torch\\nn\\modules\\container.py:92: UserWarning: Implicit dimension choice for softmax has been deprecated. Change the call to include dim=X as an argument.\n",
      "  input = module(input)\n"
     ]
    },
    {
     "name": "stdout",
     "output_type": "stream",
     "text": [
      "-106.8834366565998 -41.01100540161133\n",
      "-277.2093270343265 -32.6273193359375\n",
      "-185.1133253860023 -48.387916564941406\n",
      "-157.226560210029 -29.715503692626953\n",
      "-137.93533924837269 -17.586349487304688\n",
      "-64.20060294331249 0.8271666169166565\n"
     ]
    }
   ],
   "source": [
    "rewards = []\n",
    "losses = []\n",
    "for i in range(3000):\n",
    "    if (i % 25) == 0:\n",
    "        trainer.should_render = True\n",
    "    reward, loss = trainer.train_one_episode()\n",
    "    trainer.should_render = False\n",
    "    rewards.append(reward)\n",
    "    losses.append(loss)\n",
    "    if (i % 100) == 0:\n",
    "        print(np.mean(rewards), loss)\n",
    "        rewards = []\n",
    "        losses = []"
   ]
  },
  {
   "cell_type": "code",
   "execution_count": null,
   "metadata": {},
   "outputs": [],
   "source": [
    "%debug\n"
   ]
  }
 ],
 "metadata": {
  "kernelspec": {
   "display_name": "Python 3",
   "language": "python",
   "name": "python3"
  },
  "language_info": {
   "codemirror_mode": {
    "name": "ipython",
    "version": 3
   },
   "file_extension": ".py",
   "mimetype": "text/x-python",
   "name": "python",
   "nbconvert_exporter": "python",
   "pygments_lexer": "ipython3",
   "version": "3.7.0"
  }
 },
 "nbformat": 4,
 "nbformat_minor": 2
}
